{
 "cells": [
  {
   "cell_type": "code",
   "execution_count": 1,
   "metadata": {},
   "outputs": [],
   "source": [
    "import tensorflow as tf\n",
    "import numpy as np\n",
    "import pandas as pd"
   ]
  },
  {
   "cell_type": "code",
   "execution_count": 2,
   "metadata": {},
   "outputs": [
    {
     "name": "stderr",
     "output_type": "stream",
     "text": [
      "/home/lagvna/anaconda3/lib/python3.8/site-packages/IPython/core/interactiveshell.py:3071: DtypeWarning: Columns (0,7) have mixed types.Specify dtype option on import or set low_memory=False.\n",
      "  has_raised = await self.run_ast_nodes(code_ast.body, cell_name,\n"
     ]
    }
   ],
   "source": [
    "df = pd.read_csv(\"/home/lagvna/WykazCzasopism/resources/wykaz.csv\")"
   ]
  },
  {
   "cell_type": "code",
   "execution_count": 3,
   "metadata": {},
   "outputs": [
    {
     "data": {
      "text/html": [
       "<div>\n",
       "<style scoped>\n",
       "    .dataframe tbody tr th:only-of-type {\n",
       "        vertical-align: middle;\n",
       "    }\n",
       "\n",
       "    .dataframe tbody tr th {\n",
       "        vertical-align: top;\n",
       "    }\n",
       "\n",
       "    .dataframe thead th {\n",
       "        text-align: right;\n",
       "    }\n",
       "</style>\n",
       "<table border=\"1\" class=\"dataframe\">\n",
       "  <thead>\n",
       "    <tr style=\"text-align: right;\">\n",
       "      <th></th>\n",
       "      <th>Unnamed: 0</th>\n",
       "      <th>Wykaz czasopism naukowych</th>\n",
       "      <th>Unnamed: 2</th>\n",
       "      <th>Unnamed: 3</th>\n",
       "      <th>Unnamed: 4</th>\n",
       "      <th>Unnamed: 5</th>\n",
       "      <th>Unnamed: 6</th>\n",
       "      <th>Unnamed: 7</th>\n",
       "      <th>Unnamed: 8</th>\n",
       "      <th>Unnamed: 9</th>\n",
       "      <th>...</th>\n",
       "      <th>Unnamed: 42</th>\n",
       "      <th>Unnamed: 43</th>\n",
       "      <th>Unnamed: 44</th>\n",
       "      <th>Unnamed: 45</th>\n",
       "      <th>Unnamed: 46</th>\n",
       "      <th>Unnamed: 47</th>\n",
       "      <th>Unnamed: 48</th>\n",
       "      <th>Unnamed: 49</th>\n",
       "      <th>Unnamed: 50</th>\n",
       "      <th>Unnamed: 51</th>\n",
       "    </tr>\n",
       "  </thead>\n",
       "  <tbody>\n",
       "    <tr>\n",
       "      <th>0</th>\n",
       "      <td>NaN</td>\n",
       "      <td>NaN</td>\n",
       "      <td>NaN</td>\n",
       "      <td>NaN</td>\n",
       "      <td>NaN</td>\n",
       "      <td>NaN</td>\n",
       "      <td>NaN</td>\n",
       "      <td>NaN</td>\n",
       "      <td>NaN</td>\n",
       "      <td>NaN</td>\n",
       "      <td>...</td>\n",
       "      <td>NaN</td>\n",
       "      <td>NaN</td>\n",
       "      <td>NaN</td>\n",
       "      <td>NaN</td>\n",
       "      <td>NaN</td>\n",
       "      <td>NaN</td>\n",
       "      <td>NaN</td>\n",
       "      <td>NaN</td>\n",
       "      <td>NaN</td>\n",
       "      <td>NaN</td>\n",
       "    </tr>\n",
       "    <tr>\n",
       "      <th>1</th>\n",
       "      <td>NaN</td>\n",
       "      <td>NaN</td>\n",
       "      <td>NaN</td>\n",
       "      <td>NaN</td>\n",
       "      <td>NaN</td>\n",
       "      <td>NaN</td>\n",
       "      <td>NaN</td>\n",
       "      <td>NaN</td>\n",
       "      <td>archeologia</td>\n",
       "      <td>filozofia</td>\n",
       "      <td>...</td>\n",
       "      <td>prawo kanoniczne</td>\n",
       "      <td>psychologia</td>\n",
       "      <td>astronomia</td>\n",
       "      <td>informatyka</td>\n",
       "      <td>matematyka</td>\n",
       "      <td>nauki biologiczne</td>\n",
       "      <td>nauki chemiczne</td>\n",
       "      <td>nauki fizyczne</td>\n",
       "      <td>nauki o Ziemi i środowisku</td>\n",
       "      <td>nauki teologiczne</td>\n",
       "    </tr>\n",
       "    <tr>\n",
       "      <th>2</th>\n",
       "      <td>Lp.</td>\n",
       "      <td>Tytuł 1</td>\n",
       "      <td>issn</td>\n",
       "      <td>e-issn</td>\n",
       "      <td>Tytuł 2</td>\n",
       "      <td>issn</td>\n",
       "      <td>e-issn</td>\n",
       "      <td>Punkty</td>\n",
       "      <td>101</td>\n",
       "      <td>102</td>\n",
       "      <td>...</td>\n",
       "      <td>510</td>\n",
       "      <td>511</td>\n",
       "      <td>601</td>\n",
       "      <td>602</td>\n",
       "      <td>603</td>\n",
       "      <td>604</td>\n",
       "      <td>605</td>\n",
       "      <td>606</td>\n",
       "      <td>607</td>\n",
       "      <td>701</td>\n",
       "    </tr>\n",
       "    <tr>\n",
       "      <th>3</th>\n",
       "      <td>1</td>\n",
       "      <td>2D Materials</td>\n",
       "      <td>2053-1583</td>\n",
       "      <td>2053-1583</td>\n",
       "      <td>2D Materials</td>\n",
       "      <td>NaN</td>\n",
       "      <td>2053-1583</td>\n",
       "      <td>140</td>\n",
       "      <td>NaN</td>\n",
       "      <td>NaN</td>\n",
       "      <td>...</td>\n",
       "      <td>NaN</td>\n",
       "      <td>NaN</td>\n",
       "      <td>NaN</td>\n",
       "      <td>NaN</td>\n",
       "      <td>NaN</td>\n",
       "      <td>NaN</td>\n",
       "      <td>x</td>\n",
       "      <td>x</td>\n",
       "      <td>NaN</td>\n",
       "      <td>NaN</td>\n",
       "    </tr>\n",
       "    <tr>\n",
       "      <th>4</th>\n",
       "      <td>2</td>\n",
       "      <td>3 Biotech</td>\n",
       "      <td>2190-572X</td>\n",
       "      <td>2190-5738</td>\n",
       "      <td>3 Biotech</td>\n",
       "      <td>2190-572X</td>\n",
       "      <td>2190-5738</td>\n",
       "      <td>70</td>\n",
       "      <td>NaN</td>\n",
       "      <td>NaN</td>\n",
       "      <td>...</td>\n",
       "      <td>NaN</td>\n",
       "      <td>NaN</td>\n",
       "      <td>NaN</td>\n",
       "      <td>NaN</td>\n",
       "      <td>NaN</td>\n",
       "      <td>x</td>\n",
       "      <td>NaN</td>\n",
       "      <td>NaN</td>\n",
       "      <td>NaN</td>\n",
       "      <td>NaN</td>\n",
       "    </tr>\n",
       "  </tbody>\n",
       "</table>\n",
       "<p>5 rows × 52 columns</p>\n",
       "</div>"
      ],
      "text/plain": [
       "  Unnamed: 0 Wykaz czasopism naukowych Unnamed: 2 Unnamed: 3    Unnamed: 4  \\\n",
       "0        NaN                       NaN        NaN        NaN           NaN   \n",
       "1        NaN                       NaN        NaN        NaN           NaN   \n",
       "2        Lp.                   Tytuł 1       issn     e-issn       Tytuł 2   \n",
       "3          1              2D Materials  2053-1583  2053-1583  2D Materials   \n",
       "4          2                 3 Biotech  2190-572X  2190-5738     3 Biotech   \n",
       "\n",
       "  Unnamed: 5 Unnamed: 6 Unnamed: 7   Unnamed: 8 Unnamed: 9  ...  \\\n",
       "0        NaN        NaN        NaN          NaN        NaN  ...   \n",
       "1        NaN        NaN        NaN  archeologia  filozofia  ...   \n",
       "2       issn     e-issn     Punkty          101        102  ...   \n",
       "3        NaN  2053-1583        140          NaN        NaN  ...   \n",
       "4  2190-572X  2190-5738         70          NaN        NaN  ...   \n",
       "\n",
       "        Unnamed: 42  Unnamed: 43 Unnamed: 44  Unnamed: 45 Unnamed: 46  \\\n",
       "0               NaN          NaN         NaN          NaN         NaN   \n",
       "1  prawo kanoniczne  psychologia  astronomia  informatyka  matematyka   \n",
       "2               510          511         601          602         603   \n",
       "3               NaN          NaN         NaN          NaN         NaN   \n",
       "4               NaN          NaN         NaN          NaN         NaN   \n",
       "\n",
       "         Unnamed: 47      Unnamed: 48     Unnamed: 49  \\\n",
       "0                NaN              NaN             NaN   \n",
       "1  nauki biologiczne  nauki chemiczne  nauki fizyczne   \n",
       "2                604              605             606   \n",
       "3                NaN                x               x   \n",
       "4                  x              NaN             NaN   \n",
       "\n",
       "                  Unnamed: 50        Unnamed: 51  \n",
       "0                         NaN                NaN  \n",
       "1  nauki o Ziemi i środowisku  nauki teologiczne  \n",
       "2                         607                701  \n",
       "3                         NaN                NaN  \n",
       "4                         NaN                NaN  \n",
       "\n",
       "[5 rows x 52 columns]"
      ]
     },
     "execution_count": 3,
     "metadata": {},
     "output_type": "execute_result"
    }
   ],
   "source": [
    "df.head()"
   ]
  },
  {
   "cell_type": "code",
   "execution_count": 4,
   "metadata": {},
   "outputs": [],
   "source": [
    "df.columns = df.iloc[2]"
   ]
  },
  {
   "cell_type": "code",
   "execution_count": 5,
   "metadata": {},
   "outputs": [],
   "source": [
    "df.drop([0, 1, 2], inplace = True)"
   ]
  },
  {
   "cell_type": "code",
   "execution_count": 6,
   "metadata": {},
   "outputs": [],
   "source": [
    "df = df[['Tytuł 1', 'Punkty']]"
   ]
  },
  {
   "cell_type": "code",
   "execution_count": 7,
   "metadata": {},
   "outputs": [
    {
     "data": {
      "text/plain": [
       "12"
      ]
     },
     "execution_count": 7,
     "metadata": {},
     "output_type": "execute_result"
    }
   ],
   "source": [
    "df['Punkty'].nunique()"
   ]
  },
  {
   "cell_type": "code",
   "execution_count": 8,
   "metadata": {},
   "outputs": [
    {
     "data": {
      "text/html": [
       "<div>\n",
       "<style scoped>\n",
       "    .dataframe tbody tr th:only-of-type {\n",
       "        vertical-align: middle;\n",
       "    }\n",
       "\n",
       "    .dataframe tbody tr th {\n",
       "        vertical-align: top;\n",
       "    }\n",
       "\n",
       "    .dataframe thead th {\n",
       "        text-align: right;\n",
       "    }\n",
       "</style>\n",
       "<table border=\"1\" class=\"dataframe\">\n",
       "  <thead>\n",
       "    <tr style=\"text-align: right;\">\n",
       "      <th>2</th>\n",
       "      <th>Tytuł 1</th>\n",
       "      <th>Punkty</th>\n",
       "    </tr>\n",
       "  </thead>\n",
       "  <tbody>\n",
       "    <tr>\n",
       "      <th>3</th>\n",
       "      <td>2D Materials</td>\n",
       "      <td>140</td>\n",
       "    </tr>\n",
       "    <tr>\n",
       "      <th>4</th>\n",
       "      <td>3 Biotech</td>\n",
       "      <td>70</td>\n",
       "    </tr>\n",
       "    <tr>\n",
       "      <th>5</th>\n",
       "      <td>3C Empresa</td>\n",
       "      <td>20</td>\n",
       "    </tr>\n",
       "    <tr>\n",
       "      <th>6</th>\n",
       "      <td>3c Tecnologia</td>\n",
       "      <td>20</td>\n",
       "    </tr>\n",
       "    <tr>\n",
       "      <th>7</th>\n",
       "      <td>3C Tic</td>\n",
       "      <td>20</td>\n",
       "    </tr>\n",
       "  </tbody>\n",
       "</table>\n",
       "</div>"
      ],
      "text/plain": [
       "2        Tytuł 1 Punkty\n",
       "3   2D Materials    140\n",
       "4      3 Biotech     70\n",
       "5     3C Empresa     20\n",
       "6  3c Tecnologia     20\n",
       "7         3C Tic     20"
      ]
     },
     "execution_count": 8,
     "metadata": {},
     "output_type": "execute_result"
    }
   ],
   "source": [
    "df.head()"
   ]
  },
  {
   "cell_type": "code",
   "execution_count": 9,
   "metadata": {},
   "outputs": [],
   "source": [
    "length = len(df)\n",
    "midpoint = int(0.7 * length)"
   ]
  },
  {
   "cell_type": "code",
   "execution_count": 10,
   "metadata": {},
   "outputs": [],
   "source": [
    "df.reindex(np.random.permutation(df.index))\n",
    "train = df[:midpoint]\n",
    "test = df[midpoint:]"
   ]
  },
  {
   "cell_type": "code",
   "execution_count": 11,
   "metadata": {},
   "outputs": [],
   "source": [
    "from tensorflow.keras.utils import to_categorical\n",
    "\n",
    "training_sentences = [i for i in train['Tytuł 1']]\n",
    "testing_sentences = [i for i in test['Tytuł 1']]\n",
    "training_labels = [int(i) for i in train['Punkty']]\n",
    "testing_labels = [int(i) for i in test['Punkty']]\n",
    "\n",
    "training_labels = training_labels\n",
    "testing_labels = testing_labels\n",
    "\n",
    "\n",
    "training_labels_final = to_categorical(training_labels)\n",
    "testing_labels_final = to_categorical(testing_labels)"
   ]
  },
  {
   "cell_type": "code",
   "execution_count": 12,
   "metadata": {},
   "outputs": [],
   "source": [
    "vocab_size = 10000\n",
    "embedding_dim = 16\n",
    "max_length = 20\n",
    "trunc_type='post'\n",
    "oov_tok = \"<OOV>\""
   ]
  },
  {
   "cell_type": "code",
   "execution_count": 47,
   "metadata": {},
   "outputs": [
    {
     "name": "stdout",
     "output_type": "stream",
     "text": [
      "<keras_preprocessing.text.Tokenizer object at 0x7fb9fdcf3760>\n"
     ]
    }
   ],
   "source": [
    "from tensorflow.keras.preprocessing.text import Tokenizer\n",
    "from tensorflow.keras.preprocessing.sequence import pad_sequences\n",
    "\n",
    "tokenizer = Tokenizer(num_words = vocab_size, oov_token=oov_tok)\n",
    "tokenizer.fit_on_texts(training_sentences)\n",
    "word_index = tokenizer.word_index\n",
    "sequences = tokenizer.texts_to_sequences(training_sentences)\n",
    "padded = pad_sequences(sequences,maxlen=max_length, truncating=trunc_type)\n",
    "\n",
    "testing_sequences = tokenizer.texts_to_sequences(testing_sentences)\n",
    "testing_padded = pad_sequences(testing_sequences,maxlen=max_length)\n",
    "\n",
    "print(tokenizer)"
   ]
  },
  {
   "cell_type": "code",
   "execution_count": 32,
   "metadata": {},
   "outputs": [
    {
     "name": "stdout",
     "output_type": "stream",
     "text": [
      "Model: \"sequential_2\"\n",
      "_________________________________________________________________\n",
      "Layer (type)                 Output Shape              Param #   \n",
      "=================================================================\n",
      "embedding_2 (Embedding)      (None, 20, 16)            160000    \n",
      "_________________________________________________________________\n",
      "bidirectional_2 (Bidirection (None, 64)                9600      \n",
      "_________________________________________________________________\n",
      "dense_4 (Dense)              (None, 12)                780       \n",
      "_________________________________________________________________\n",
      "dense_5 (Dense)              (None, 12)                156       \n",
      "_________________________________________________________________\n",
      "dense_6 (Dense)              (None, 201)               2613      \n",
      "=================================================================\n",
      "Total params: 173,149\n",
      "Trainable params: 173,149\n",
      "Non-trainable params: 0\n",
      "_________________________________________________________________\n"
     ]
    }
   ],
   "source": [
    "model = tf.keras.Sequential([\n",
    "    tf.keras.layers.Embedding(vocab_size, embedding_dim, input_length=max_length),\n",
    "    tf.keras.layers.Bidirectional(tf.keras.layers.GRU(32)),\n",
    "    tf.keras.layers.Dense(12, activation='relu'),\n",
    "    tf.keras.layers.Dense(12, activation='relu'),\n",
    "    tf.keras.layers.Dense(201, activation='softmax')\n",
    "])\n",
    "model.compile(loss='categorical_crossentropy',optimizer='adam',metrics=['accuracy'])\n",
    "model.summary()"
   ]
  },
  {
   "cell_type": "code",
   "execution_count": 33,
   "metadata": {},
   "outputs": [
    {
     "name": "stdout",
     "output_type": "stream",
     "text": [
      "Epoch 1/50\n",
      "636/636 [==============================] - 8s 13ms/step - loss: 1.9054 - accuracy: 0.2371 - val_loss: 1.4808 - val_accuracy: 0.0808\n",
      "Epoch 2/50\n",
      "636/636 [==============================] - 10s 16ms/step - loss: 1.6218 - accuracy: 0.2662 - val_loss: 1.1531 - val_accuracy: 0.5655\n",
      "Epoch 3/50\n",
      "636/636 [==============================] - 9s 14ms/step - loss: 1.4882 - accuracy: 0.3497 - val_loss: 1.1883 - val_accuracy: 0.5280\n",
      "Epoch 4/50\n",
      "636/636 [==============================] - 11s 17ms/step - loss: 1.3974 - accuracy: 0.4069 - val_loss: 1.3382 - val_accuracy: 0.3988\n",
      "Epoch 5/50\n",
      "636/636 [==============================] - 9s 14ms/step - loss: 1.3126 - accuracy: 0.4553 - val_loss: 1.3757 - val_accuracy: 0.4312\n",
      "Epoch 6/50\n",
      "636/636 [==============================] - 11s 17ms/step - loss: 1.2289 - accuracy: 0.5117 - val_loss: 1.4800 - val_accuracy: 0.3245\n",
      "Epoch 7/50\n",
      "636/636 [==============================] - 11s 17ms/step - loss: 1.1572 - accuracy: 0.5404 - val_loss: 1.5557 - val_accuracy: 0.3360\n",
      "Epoch 8/50\n",
      "636/636 [==============================] - 10s 16ms/step - loss: 1.0985 - accuracy: 0.5608 - val_loss: 1.6161 - val_accuracy: 0.3584\n",
      "Epoch 9/50\n",
      "636/636 [==============================] - 15s 23ms/step - loss: 1.0511 - accuracy: 0.5848 - val_loss: 1.6354 - val_accuracy: 0.4001\n",
      "Epoch 10/50\n",
      "636/636 [==============================] - 14s 22ms/step - loss: 1.0108 - accuracy: 0.5984 - val_loss: 1.5715 - val_accuracy: 0.4434\n",
      "Epoch 11/50\n",
      "636/636 [==============================] - 10s 16ms/step - loss: 0.9725 - accuracy: 0.6131 - val_loss: 1.7536 - val_accuracy: 0.3992\n",
      "Epoch 12/50\n",
      "636/636 [==============================] - 8s 12ms/step - loss: 0.9377 - accuracy: 0.6242 - val_loss: 1.7787 - val_accuracy: 0.3792\n",
      "Epoch 13/50\n",
      "636/636 [==============================] - 8s 13ms/step - loss: 0.9057 - accuracy: 0.6365 - val_loss: 1.9831 - val_accuracy: 0.3411\n",
      "Epoch 14/50\n",
      "636/636 [==============================] - 9s 14ms/step - loss: 0.8749 - accuracy: 0.6450 - val_loss: 1.9597 - val_accuracy: 0.3867\n",
      "Epoch 15/50\n",
      "636/636 [==============================] - 8s 12ms/step - loss: 0.8502 - accuracy: 0.6553 - val_loss: 2.1305 - val_accuracy: 0.3157\n",
      "Epoch 16/50\n",
      "636/636 [==============================] - 7s 11ms/step - loss: 0.8271 - accuracy: 0.6634 - val_loss: 2.0723 - val_accuracy: 0.3706\n",
      "Epoch 17/50\n",
      "636/636 [==============================] - 8s 12ms/step - loss: 0.8063 - accuracy: 0.6717 - val_loss: 2.2196 - val_accuracy: 0.3408\n",
      "Epoch 18/50\n",
      "636/636 [==============================] - 8s 13ms/step - loss: 0.7856 - accuracy: 0.6813 - val_loss: 2.2662 - val_accuracy: 0.3929\n",
      "Epoch 19/50\n",
      "636/636 [==============================] - 8s 12ms/step - loss: 0.7666 - accuracy: 0.6863 - val_loss: 2.2407 - val_accuracy: 0.3868\n",
      "Epoch 20/50\n",
      "636/636 [==============================] - 7s 12ms/step - loss: 0.7489 - accuracy: 0.6944 - val_loss: 2.4038 - val_accuracy: 0.3448\n",
      "Epoch 21/50\n",
      "636/636 [==============================] - 10s 16ms/step - loss: 0.7314 - accuracy: 0.7025 - val_loss: 2.6704 - val_accuracy: 0.3013\n",
      "Epoch 22/50\n",
      "636/636 [==============================] - 11s 18ms/step - loss: 0.7139 - accuracy: 0.7091 - val_loss: 2.5675 - val_accuracy: 0.3344\n",
      "Epoch 23/50\n",
      "636/636 [==============================] - 9s 13ms/step - loss: 0.6993 - accuracy: 0.7145 - val_loss: 2.6967 - val_accuracy: 0.3456\n",
      "Epoch 24/50\n",
      "636/636 [==============================] - 8s 13ms/step - loss: 0.6833 - accuracy: 0.7228 - val_loss: 2.7597 - val_accuracy: 0.3316\n",
      "Epoch 25/50\n",
      "636/636 [==============================] - 8s 12ms/step - loss: 0.6698 - accuracy: 0.7291 - val_loss: 2.8179 - val_accuracy: 0.3299\n",
      "Epoch 26/50\n",
      "636/636 [==============================] - 7s 12ms/step - loss: 0.6571 - accuracy: 0.7318 - val_loss: 2.9129 - val_accuracy: 0.3228\n",
      "Epoch 27/50\n",
      "636/636 [==============================] - 7s 11ms/step - loss: 0.6431 - accuracy: 0.7419 - val_loss: 2.9517 - val_accuracy: 0.3417\n",
      "Epoch 28/50\n",
      "636/636 [==============================] - 7s 12ms/step - loss: 0.6285 - accuracy: 0.7435 - val_loss: 3.0727 - val_accuracy: 0.3545\n",
      "Epoch 29/50\n",
      "636/636 [==============================] - 7s 11ms/step - loss: 0.6181 - accuracy: 0.7506 - val_loss: 3.0615 - val_accuracy: 0.3767\n",
      "Epoch 30/50\n",
      "636/636 [==============================] - 7s 11ms/step - loss: 0.6063 - accuracy: 0.7555 - val_loss: 3.2838 - val_accuracy: 0.3426\n",
      "Epoch 31/50\n",
      "636/636 [==============================] - 7s 11ms/step - loss: 0.5947 - accuracy: 0.7607 - val_loss: 3.2701 - val_accuracy: 0.3434\n",
      "Epoch 32/50\n",
      "636/636 [==============================] - 8s 12ms/step - loss: 0.5854 - accuracy: 0.7679 - val_loss: 3.3599 - val_accuracy: 0.3403\n",
      "Epoch 33/50\n",
      "636/636 [==============================] - 7s 11ms/step - loss: 0.5725 - accuracy: 0.7688 - val_loss: 3.3968 - val_accuracy: 0.3361\n",
      "Epoch 34/50\n",
      "636/636 [==============================] - 9s 13ms/step - loss: 0.5624 - accuracy: 0.7753 - val_loss: 3.6064 - val_accuracy: 0.3041\n",
      "Epoch 35/50\n",
      "636/636 [==============================] - 9s 14ms/step - loss: 0.5542 - accuracy: 0.7772 - val_loss: 3.6173 - val_accuracy: 0.3101\n",
      "Epoch 36/50\n",
      "636/636 [==============================] - 8s 13ms/step - loss: 0.5421 - accuracy: 0.7813 - val_loss: 3.7924 - val_accuracy: 0.3144\n",
      "Epoch 37/50\n",
      "636/636 [==============================] - 8s 12ms/step - loss: 0.5318 - accuracy: 0.7864 - val_loss: 3.5950 - val_accuracy: 0.3333\n",
      "Epoch 38/50\n",
      "636/636 [==============================] - 9s 15ms/step - loss: 0.5217 - accuracy: 0.7912 - val_loss: 3.7522 - val_accuracy: 0.3706\n",
      "Epoch 39/50\n",
      "636/636 [==============================] - 8s 12ms/step - loss: 0.5104 - accuracy: 0.8001 - val_loss: 3.8931 - val_accuracy: 0.3488\n",
      "Epoch 40/50\n",
      "636/636 [==============================] - 8s 12ms/step - loss: 0.5041 - accuracy: 0.8000 - val_loss: 4.1156 - val_accuracy: 0.3345\n",
      "Epoch 41/50\n",
      "636/636 [==============================] - 8s 12ms/step - loss: 0.4940 - accuracy: 0.8033 - val_loss: 4.2295 - val_accuracy: 0.3256\n",
      "Epoch 42/50\n",
      "636/636 [==============================] - 8s 13ms/step - loss: 0.4864 - accuracy: 0.8059 - val_loss: 4.1383 - val_accuracy: 0.3128\n",
      "Epoch 43/50\n",
      "636/636 [==============================] - 8s 12ms/step - loss: 0.4755 - accuracy: 0.8106 - val_loss: 4.2108 - val_accuracy: 0.3409\n",
      "Epoch 44/50\n",
      "636/636 [==============================] - 8s 12ms/step - loss: 0.4672 - accuracy: 0.8158 - val_loss: 4.2917 - val_accuracy: 0.3052\n",
      "Epoch 45/50\n",
      "636/636 [==============================] - 8s 13ms/step - loss: 0.4563 - accuracy: 0.8193 - val_loss: 4.6521 - val_accuracy: 0.3386\n",
      "Epoch 46/50\n",
      "636/636 [==============================] - 9s 14ms/step - loss: 0.4482 - accuracy: 0.8251 - val_loss: 4.4635 - val_accuracy: 0.3198\n",
      "Epoch 47/50\n",
      "636/636 [==============================] - 9s 14ms/step - loss: 0.4434 - accuracy: 0.8253 - val_loss: 4.6286 - val_accuracy: 0.3092\n",
      "Epoch 48/50\n",
      "636/636 [==============================] - 8s 13ms/step - loss: 0.4347 - accuracy: 0.8303 - val_loss: 4.4099 - val_accuracy: 0.3492\n",
      "Epoch 49/50\n",
      "636/636 [==============================] - 9s 14ms/step - loss: 0.4247 - accuracy: 0.8335 - val_loss: 4.5516 - val_accuracy: 0.3433\n",
      "Epoch 50/50\n",
      "636/636 [==============================] - 8s 13ms/step - loss: 0.4148 - accuracy: 0.8388 - val_loss: 4.9269 - val_accuracy: 0.3355\n"
     ]
    }
   ],
   "source": [
    "num_epochs = 50\n",
    "history = model.fit(padded, training_labels_final, epochs=num_epochs, validation_data=(testing_padded, testing_labels_final))"
   ]
  },
  {
   "cell_type": "code",
   "execution_count": 34,
   "metadata": {},
   "outputs": [],
   "source": [
    "import matplotlib.pyplot as plt\n",
    "\n",
    "\n",
    "def plot_graphs(history, string):\n",
    "  plt.plot(history.history[string])\n",
    "  plt.xlabel(\"Epochs\")\n",
    "  plt.ylabel(string)\n",
    "  plt.show()"
   ]
  },
  {
   "cell_type": "code",
   "execution_count": 35,
   "metadata": {},
   "outputs": [
    {
     "data": {
      "image/png": "[encoded data removed]",
      "text/plain": [
       "<Figure size 432x288 with 1 Axes>"
      ]
     },
     "metadata": {
      "needs_background": "light"
     },
     "output_type": "display_data"
    }
   ],
   "source": [
    "plot_graphs(history, 'accuracy')"
   ]
  },
  {
   "cell_type": "code",
   "execution_count": 46,
   "metadata": {},
   "outputs": [
    {
     "name": "stdout",
     "output_type": "stream",
     "text": [
      "[740, 93]\n",
      "[70]\n"
     ]
    }
   ],
   "source": [
    "reverse_word_index = dict([(value, key) for (key, value) in word_index.items()])\n",
    "\n",
    "def decode_title(text):\n",
    "    return ' '.join([reverse_word_index.get(i, '?') for i in text])\n",
    "\n",
    "title = 'distributed computing'\n",
    "token_list = tokenizer.texts_to_sequences([title])[0]\n",
    "print(token_list)\n",
    "token_list = pad_sequences([token_list], maxlen=max_length-1, padding='post')\n",
    "predicted = model.predict_classes(token_list, verbose=0)\n",
    "print(predicted)\n",
    "\n",
    "\n",
    "print(decode_title(predicted[1]))\n"
   ]
  },
  {
   "cell_type": "code",
   "execution_count": null,
   "metadata": {},
   "outputs": [],
   "source": []
  }
 ],
 "metadata": {
  "kernelspec": {
   "display_name": "Python 3",
   "language": "python",
   "name": "python3"
  },
  "language_info": {
   "codemirror_mode": {
    "name": "ipython",
    "version": 3
   },
   "file_extension": ".py",
   "mimetype": "text/x-python",
   "name": "python",
   "nbconvert_exporter": "python",
   "pygments_lexer": "ipython3",
   "version": "3.8.3"
  }
 },
 "nbformat": 4,
 "nbformat_minor": 4
}
