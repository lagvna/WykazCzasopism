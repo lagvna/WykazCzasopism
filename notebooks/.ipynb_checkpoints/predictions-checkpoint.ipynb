{
 "cells": [
  {
   "cell_type": "code",
   "execution_count": 1,
   "metadata": {},
   "outputs": [],
   "source": [
    "import tensorflow as tf\n",
    "import numpy as np\n",
    "import pandas as pd"
   ]
  },
  {
   "cell_type": "code",
   "execution_count": 2,
   "metadata": {},
   "outputs": [
    {
     "name": "stderr",
     "output_type": "stream",
     "text": [
      "/home/lagvna/anaconda3/lib/python3.8/site-packages/IPython/core/interactiveshell.py:3071: DtypeWarning: Columns (0,7) have mixed types.Specify dtype option on import or set low_memory=False.\n",
      "  has_raised = await self.run_ast_nodes(code_ast.body, cell_name,\n"
     ]
    }
   ],
   "source": [
    "df = pd.read_csv(\"/home/lagvna/WykazCzasopism/resources/wykaz.csv\")"
   ]
  },
  {
   "cell_type": "code",
   "execution_count": 3,
   "metadata": {},
   "outputs": [
    {
     "data": {
      "text/html": [
       "<div>\n",
       "<style scoped>\n",
       "    .dataframe tbody tr th:only-of-type {\n",
       "        vertical-align: middle;\n",
       "    }\n",
       "\n",
       "    .dataframe tbody tr th {\n",
       "        vertical-align: top;\n",
       "    }\n",
       "\n",
       "    .dataframe thead th {\n",
       "        text-align: right;\n",
       "    }\n",
       "</style>\n",
       "<table border=\"1\" class=\"dataframe\">\n",
       "  <thead>\n",
       "    <tr style=\"text-align: right;\">\n",
       "      <th></th>\n",
       "      <th>Unnamed: 0</th>\n",
       "      <th>Wykaz czasopism naukowych</th>\n",
       "      <th>Unnamed: 2</th>\n",
       "      <th>Unnamed: 3</th>\n",
       "      <th>Unnamed: 4</th>\n",
       "      <th>Unnamed: 5</th>\n",
       "      <th>Unnamed: 6</th>\n",
       "      <th>Unnamed: 7</th>\n",
       "      <th>Unnamed: 8</th>\n",
       "      <th>Unnamed: 9</th>\n",
       "      <th>...</th>\n",
       "      <th>Unnamed: 42</th>\n",
       "      <th>Unnamed: 43</th>\n",
       "      <th>Unnamed: 44</th>\n",
       "      <th>Unnamed: 45</th>\n",
       "      <th>Unnamed: 46</th>\n",
       "      <th>Unnamed: 47</th>\n",
       "      <th>Unnamed: 48</th>\n",
       "      <th>Unnamed: 49</th>\n",
       "      <th>Unnamed: 50</th>\n",
       "      <th>Unnamed: 51</th>\n",
       "    </tr>\n",
       "  </thead>\n",
       "  <tbody>\n",
       "    <tr>\n",
       "      <th>0</th>\n",
       "      <td>NaN</td>\n",
       "      <td>NaN</td>\n",
       "      <td>NaN</td>\n",
       "      <td>NaN</td>\n",
       "      <td>NaN</td>\n",
       "      <td>NaN</td>\n",
       "      <td>NaN</td>\n",
       "      <td>NaN</td>\n",
       "      <td>NaN</td>\n",
       "      <td>NaN</td>\n",
       "      <td>...</td>\n",
       "      <td>NaN</td>\n",
       "      <td>NaN</td>\n",
       "      <td>NaN</td>\n",
       "      <td>NaN</td>\n",
       "      <td>NaN</td>\n",
       "      <td>NaN</td>\n",
       "      <td>NaN</td>\n",
       "      <td>NaN</td>\n",
       "      <td>NaN</td>\n",
       "      <td>NaN</td>\n",
       "    </tr>\n",
       "    <tr>\n",
       "      <th>1</th>\n",
       "      <td>NaN</td>\n",
       "      <td>NaN</td>\n",
       "      <td>NaN</td>\n",
       "      <td>NaN</td>\n",
       "      <td>NaN</td>\n",
       "      <td>NaN</td>\n",
       "      <td>NaN</td>\n",
       "      <td>NaN</td>\n",
       "      <td>archeologia</td>\n",
       "      <td>filozofia</td>\n",
       "      <td>...</td>\n",
       "      <td>prawo kanoniczne</td>\n",
       "      <td>psychologia</td>\n",
       "      <td>astronomia</td>\n",
       "      <td>informatyka</td>\n",
       "      <td>matematyka</td>\n",
       "      <td>nauki biologiczne</td>\n",
       "      <td>nauki chemiczne</td>\n",
       "      <td>nauki fizyczne</td>\n",
       "      <td>nauki o Ziemi i środowisku</td>\n",
       "      <td>nauki teologiczne</td>\n",
       "    </tr>\n",
       "    <tr>\n",
       "      <th>2</th>\n",
       "      <td>Lp.</td>\n",
       "      <td>Tytuł 1</td>\n",
       "      <td>issn</td>\n",
       "      <td>e-issn</td>\n",
       "      <td>Tytuł 2</td>\n",
       "      <td>issn</td>\n",
       "      <td>e-issn</td>\n",
       "      <td>Punkty</td>\n",
       "      <td>101</td>\n",
       "      <td>102</td>\n",
       "      <td>...</td>\n",
       "      <td>510</td>\n",
       "      <td>511</td>\n",
       "      <td>601</td>\n",
       "      <td>602</td>\n",
       "      <td>603</td>\n",
       "      <td>604</td>\n",
       "      <td>605</td>\n",
       "      <td>606</td>\n",
       "      <td>607</td>\n",
       "      <td>701</td>\n",
       "    </tr>\n",
       "    <tr>\n",
       "      <th>3</th>\n",
       "      <td>1</td>\n",
       "      <td>2D Materials</td>\n",
       "      <td>2053-1583</td>\n",
       "      <td>2053-1583</td>\n",
       "      <td>2D Materials</td>\n",
       "      <td>NaN</td>\n",
       "      <td>2053-1583</td>\n",
       "      <td>140</td>\n",
       "      <td>NaN</td>\n",
       "      <td>NaN</td>\n",
       "      <td>...</td>\n",
       "      <td>NaN</td>\n",
       "      <td>NaN</td>\n",
       "      <td>NaN</td>\n",
       "      <td>NaN</td>\n",
       "      <td>NaN</td>\n",
       "      <td>NaN</td>\n",
       "      <td>x</td>\n",
       "      <td>x</td>\n",
       "      <td>NaN</td>\n",
       "      <td>NaN</td>\n",
       "    </tr>\n",
       "    <tr>\n",
       "      <th>4</th>\n",
       "      <td>2</td>\n",
       "      <td>3 Biotech</td>\n",
       "      <td>2190-572X</td>\n",
       "      <td>2190-5738</td>\n",
       "      <td>3 Biotech</td>\n",
       "      <td>2190-572X</td>\n",
       "      <td>2190-5738</td>\n",
       "      <td>70</td>\n",
       "      <td>NaN</td>\n",
       "      <td>NaN</td>\n",
       "      <td>...</td>\n",
       "      <td>NaN</td>\n",
       "      <td>NaN</td>\n",
       "      <td>NaN</td>\n",
       "      <td>NaN</td>\n",
       "      <td>NaN</td>\n",
       "      <td>x</td>\n",
       "      <td>NaN</td>\n",
       "      <td>NaN</td>\n",
       "      <td>NaN</td>\n",
       "      <td>NaN</td>\n",
       "    </tr>\n",
       "  </tbody>\n",
       "</table>\n",
       "<p>5 rows × 52 columns</p>\n",
       "</div>"
      ],
      "text/plain": [
       "  Unnamed: 0 Wykaz czasopism naukowych Unnamed: 2 Unnamed: 3    Unnamed: 4  \\\n",
       "0        NaN                       NaN        NaN        NaN           NaN   \n",
       "1        NaN                       NaN        NaN        NaN           NaN   \n",
       "2        Lp.                   Tytuł 1       issn     e-issn       Tytuł 2   \n",
       "3          1              2D Materials  2053-1583  2053-1583  2D Materials   \n",
       "4          2                 3 Biotech  2190-572X  2190-5738     3 Biotech   \n",
       "\n",
       "  Unnamed: 5 Unnamed: 6 Unnamed: 7   Unnamed: 8 Unnamed: 9  ...  \\\n",
       "0        NaN        NaN        NaN          NaN        NaN  ...   \n",
       "1        NaN        NaN        NaN  archeologia  filozofia  ...   \n",
       "2       issn     e-issn     Punkty          101        102  ...   \n",
       "3        NaN  2053-1583        140          NaN        NaN  ...   \n",
       "4  2190-572X  2190-5738         70          NaN        NaN  ...   \n",
       "\n",
       "        Unnamed: 42  Unnamed: 43 Unnamed: 44  Unnamed: 45 Unnamed: 46  \\\n",
       "0               NaN          NaN         NaN          NaN         NaN   \n",
       "1  prawo kanoniczne  psychologia  astronomia  informatyka  matematyka   \n",
       "2               510          511         601          602         603   \n",
       "3               NaN          NaN         NaN          NaN         NaN   \n",
       "4               NaN          NaN         NaN          NaN         NaN   \n",
       "\n",
       "         Unnamed: 47      Unnamed: 48     Unnamed: 49  \\\n",
       "0                NaN              NaN             NaN   \n",
       "1  nauki biologiczne  nauki chemiczne  nauki fizyczne   \n",
       "2                604              605             606   \n",
       "3                NaN                x               x   \n",
       "4                  x              NaN             NaN   \n",
       "\n",
       "                  Unnamed: 50        Unnamed: 51  \n",
       "0                         NaN                NaN  \n",
       "1  nauki o Ziemi i środowisku  nauki teologiczne  \n",
       "2                         607                701  \n",
       "3                         NaN                NaN  \n",
       "4                         NaN                NaN  \n",
       "\n",
       "[5 rows x 52 columns]"
      ]
     },
     "execution_count": 3,
     "metadata": {},
     "output_type": "execute_result"
    }
   ],
   "source": [
    "df.head()"
   ]
  },
  {
   "cell_type": "code",
   "execution_count": 4,
   "metadata": {},
   "outputs": [],
   "source": [
    "df.columns = df.iloc[2]"
   ]
  },
  {
   "cell_type": "code",
   "execution_count": 5,
   "metadata": {},
   "outputs": [],
   "source": [
    "df.drop([0, 1, 2], inplace = True)"
   ]
  },
  {
   "cell_type": "code",
   "execution_count": 6,
   "metadata": {},
   "outputs": [],
   "source": [
    "df = df[['Tytuł 1', 'Punkty']]"
   ]
  },
  {
   "cell_type": "code",
   "execution_count": 72,
   "metadata": {},
   "outputs": [],
   "source": [
    "df['Punkty'].nunique()\n",
    "df['Punkty'] = pd.to_numeric(df['Punkty'])\n",
    "df['Punkty'] = df['Punkty'] / 10.0"
   ]
  },
  {
   "cell_type": "code",
   "execution_count": 73,
   "metadata": {},
   "outputs": [
    {
     "data": {
      "text/html": [
       "<div>\n",
       "<style scoped>\n",
       "    .dataframe tbody tr th:only-of-type {\n",
       "        vertical-align: middle;\n",
       "    }\n",
       "\n",
       "    .dataframe tbody tr th {\n",
       "        vertical-align: top;\n",
       "    }\n",
       "\n",
       "    .dataframe thead th {\n",
       "        text-align: right;\n",
       "    }\n",
       "</style>\n",
       "<table border=\"1\" class=\"dataframe\">\n",
       "  <thead>\n",
       "    <tr style=\"text-align: right;\">\n",
       "      <th>2</th>\n",
       "      <th>Tytuł 1</th>\n",
       "      <th>Punkty</th>\n",
       "    </tr>\n",
       "  </thead>\n",
       "  <tbody>\n",
       "    <tr>\n",
       "      <th>3</th>\n",
       "      <td>2D Materials</td>\n",
       "      <td>14.0</td>\n",
       "    </tr>\n",
       "    <tr>\n",
       "      <th>4</th>\n",
       "      <td>3 Biotech</td>\n",
       "      <td>7.0</td>\n",
       "    </tr>\n",
       "    <tr>\n",
       "      <th>5</th>\n",
       "      <td>3C Empresa</td>\n",
       "      <td>2.0</td>\n",
       "    </tr>\n",
       "    <tr>\n",
       "      <th>6</th>\n",
       "      <td>3c Tecnologia</td>\n",
       "      <td>2.0</td>\n",
       "    </tr>\n",
       "    <tr>\n",
       "      <th>7</th>\n",
       "      <td>3C Tic</td>\n",
       "      <td>2.0</td>\n",
       "    </tr>\n",
       "  </tbody>\n",
       "</table>\n",
       "</div>"
      ],
      "text/plain": [
       "2        Tytuł 1  Punkty\n",
       "3   2D Materials    14.0\n",
       "4      3 Biotech     7.0\n",
       "5     3C Empresa     2.0\n",
       "6  3c Tecnologia     2.0\n",
       "7         3C Tic     2.0"
      ]
     },
     "execution_count": 73,
     "metadata": {},
     "output_type": "execute_result"
    }
   ],
   "source": [
    "df.head()"
   ]
  },
  {
   "cell_type": "code",
   "execution_count": 74,
   "metadata": {},
   "outputs": [],
   "source": [
    "length = len(df)\n",
    "midpoint = int(0.7 * length)"
   ]
  },
  {
   "cell_type": "code",
   "execution_count": 75,
   "metadata": {},
   "outputs": [],
   "source": [
    "df.reindex(np.random.permutation(df.index))\n",
    "train = df[:midpoint]\n",
    "test = df[midpoint:]"
   ]
  },
  {
   "cell_type": "code",
   "execution_count": 76,
   "metadata": {},
   "outputs": [],
   "source": [
    "from tensorflow.keras.utils import to_categorical\n",
    "\n",
    "training_sentences = [i for i in train['Tytuł 1']]\n",
    "testing_sentences = [i for i in test['Tytuł 1']]\n",
    "training_labels = [int(i) for i in train['Punkty']]\n",
    "testing_labels = [int(i) for i in test['Punkty']]\n",
    "\n",
    "training_labels = training_labels\n",
    "testing_labels = testing_labels\n",
    "\n",
    "\n",
    "training_labels_final = to_categorical(training_labels)\n",
    "testing_labels_final = to_categorical(testing_labels)"
   ]
  },
  {
   "cell_type": "code",
   "execution_count": 77,
   "metadata": {},
   "outputs": [],
   "source": [
    "vocab_size = 13000\n",
    "embedding_dim = 16\n",
    "max_length = 20\n",
    "trunc_type='post'\n",
    "oov_tok = \"<OOV>\""
   ]
  },
  {
   "cell_type": "code",
   "execution_count": 65,
   "metadata": {},
   "outputs": [],
   "source": [
    "from tensorflow.keras.preprocessing.text import Tokenizer\n",
    "from tensorflow.keras.preprocessing.sequence import pad_sequences\n",
    "\n",
    "tokenizer = Tokenizer(num_words = vocab_size, oov_token=oov_tok)\n",
    "tokenizer.fit_on_texts(training_sentences)\n",
    "word_index = tokenizer.word_index\n",
    "sequences = tokenizer.texts_to_sequences(training_sentences)\n",
    "padded = pad_sequences(sequences,maxlen=max_length, truncating=trunc_type)\n",
    "\n",
    "testing_sequences = tokenizer.texts_to_sequences(testing_sentences)\n",
    "testing_padded = pad_sequences(testing_sequences,maxlen=max_length)"
   ]
  },
  {
   "cell_type": "code",
   "execution_count": 66,
   "metadata": {},
   "outputs": [
    {
     "name": "stdout",
     "output_type": "stream",
     "text": [
      "Model: \"sequential_4\"\n",
      "_________________________________________________________________\n",
      "Layer (type)                 Output Shape              Param #   \n",
      "=================================================================\n",
      "embedding_4 (Embedding)      (None, 20, 16)            208000    \n",
      "_________________________________________________________________\n",
      "bidirectional_4 (Bidirection (None, 64)                9600      \n",
      "_________________________________________________________________\n",
      "dense_10 (Dense)             (None, 12)                780       \n",
      "_________________________________________________________________\n",
      "dense_11 (Dense)             (None, 12)                156       \n",
      "_________________________________________________________________\n",
      "dense_12 (Dense)             (None, 201)               2613      \n",
      "=================================================================\n",
      "Total params: 221,149\n",
      "Trainable params: 221,149\n",
      "Non-trainable params: 0\n",
      "_________________________________________________________________\n"
     ]
    }
   ],
   "source": [
    "model = tf.keras.Sequential([\n",
    "    tf.keras.layers.Embedding(vocab_size, embedding_dim, input_length=max_length),\n",
    "    tf.keras.layers.Bidirectional(tf.keras.layers.GRU(32)),\n",
    "    tf.keras.layers.Dense(12, activation='relu'),\n",
    "    tf.keras.layers.Dense(12, activation='relu'),\n",
    "    tf.keras.layers.Dense(21, activation='softmax')\n",
    "])\n",
    "model.compile(loss='categorical_crossentropy',optimizer='adam',metrics=['accuracy'])\n",
    "model.summary()"
   ]
  },
  {
   "cell_type": "code",
   "execution_count": 67,
   "metadata": {},
   "outputs": [
    {
     "name": "stdout",
     "output_type": "stream",
     "text": [
      "Epoch 1/25\n",
      "636/636 [==============================] - 8s 13ms/step - loss: 1.9357 - accuracy: 0.2371 - val_loss: 1.4521 - val_accuracy: 0.6713\n",
      "Epoch 2/25\n",
      "636/636 [==============================] - 8s 12ms/step - loss: 1.6326 - accuracy: 0.2764 - val_loss: 1.6153 - val_accuracy: 0.2670\n",
      "Epoch 3/25\n",
      "636/636 [==============================] - 8s 12ms/step - loss: 1.4971 - accuracy: 0.3705 - val_loss: 1.3696 - val_accuracy: 0.4357\n",
      "Epoch 4/25\n",
      "636/636 [==============================] - 7s 12ms/step - loss: 1.3779 - accuracy: 0.4142 - val_loss: 1.4973 - val_accuracy: 0.3949\n",
      "Epoch 5/25\n",
      "636/636 [==============================] - 8s 12ms/step - loss: 1.2878 - accuracy: 0.4661 - val_loss: 1.6290 - val_accuracy: 0.2903\n",
      "Epoch 6/25\n",
      "636/636 [==============================] - 8s 12ms/step - loss: 1.2124 - accuracy: 0.5138 - val_loss: 1.7262 - val_accuracy: 0.3077\n",
      "Epoch 7/25\n",
      "636/636 [==============================] - 8s 13ms/step - loss: 1.1456 - accuracy: 0.5576 - val_loss: 1.8249 - val_accuracy: 0.2840\n",
      "Epoch 8/25\n",
      "636/636 [==============================] - 8s 12ms/step - loss: 1.0756 - accuracy: 0.5819 - val_loss: 1.6842 - val_accuracy: 0.2887\n",
      "Epoch 9/25\n",
      "636/636 [==============================] - 8s 12ms/step - loss: 1.0218 - accuracy: 0.5987 - val_loss: 1.7683 - val_accuracy: 0.2765\n",
      "Epoch 10/25\n",
      "636/636 [==============================] - 8s 13ms/step - loss: 0.9815 - accuracy: 0.6097 - val_loss: 1.6980 - val_accuracy: 0.3297\n",
      "Epoch 11/25\n",
      "636/636 [==============================] - 9s 13ms/step - loss: 0.9544 - accuracy: 0.6205 - val_loss: 1.7726 - val_accuracy: 0.2898\n",
      "Epoch 12/25\n",
      "636/636 [==============================] - 8s 12ms/step - loss: 0.9268 - accuracy: 0.6287 - val_loss: 1.8958 - val_accuracy: 0.2855\n",
      "Epoch 13/25\n",
      "636/636 [==============================] - 8s 13ms/step - loss: 0.9052 - accuracy: 0.6359 - val_loss: 1.8963 - val_accuracy: 0.3015\n",
      "Epoch 14/25\n",
      "636/636 [==============================] - 8s 13ms/step - loss: 0.8873 - accuracy: 0.6421 - val_loss: 2.0038 - val_accuracy: 0.2661\n",
      "Epoch 15/25\n",
      "636/636 [==============================] - 7s 11ms/step - loss: 0.8699 - accuracy: 0.6477 - val_loss: 2.1040 - val_accuracy: 0.2618\n",
      "Epoch 16/25\n",
      "636/636 [==============================] - 7s 12ms/step - loss: 0.8562 - accuracy: 0.6532 - val_loss: 2.0244 - val_accuracy: 0.2839\n",
      "Epoch 17/25\n",
      "636/636 [==============================] - 9s 15ms/step - loss: 0.8383 - accuracy: 0.6601 - val_loss: 2.2313 - val_accuracy: 0.2603\n",
      "Epoch 18/25\n",
      "636/636 [==============================] - 8s 12ms/step - loss: 0.8236 - accuracy: 0.6643 - val_loss: 2.0399 - val_accuracy: 0.3161\n",
      "Epoch 19/25\n",
      "636/636 [==============================] - 8s 12ms/step - loss: 0.8087 - accuracy: 0.6699 - val_loss: 2.1403 - val_accuracy: 0.3135\n",
      "Epoch 20/25\n",
      "636/636 [==============================] - 8s 13ms/step - loss: 0.7939 - accuracy: 0.6761 - val_loss: 2.2357 - val_accuracy: 0.2720\n",
      "Epoch 21/25\n",
      "636/636 [==============================] - 8s 12ms/step - loss: 0.7802 - accuracy: 0.6815 - val_loss: 2.3774 - val_accuracy: 0.2508\n",
      "Epoch 22/25\n",
      "636/636 [==============================] - 8s 12ms/step - loss: 0.7657 - accuracy: 0.6875 - val_loss: 2.3768 - val_accuracy: 0.2694\n",
      "Epoch 23/25\n",
      "636/636 [==============================] - 8s 12ms/step - loss: 0.7512 - accuracy: 0.6930 - val_loss: 2.3181 - val_accuracy: 0.2927\n",
      "Epoch 24/25\n",
      "636/636 [==============================] - 8s 13ms/step - loss: 0.7364 - accuracy: 0.7028 - val_loss: 2.5034 - val_accuracy: 0.2774\n",
      "Epoch 25/25\n",
      "636/636 [==============================] - 8s 12ms/step - loss: 0.7231 - accuracy: 0.7071 - val_loss: 2.5144 - val_accuracy: 0.2694\n"
     ]
    }
   ],
   "source": [
    "num_epochs = 25\n",
    "history = model.fit(padded, training_labels_final, epochs=num_epochs, validation_data=(testing_padded, testing_labels_final))"
   ]
  },
  {
   "cell_type": "code",
   "execution_count": 69,
   "metadata": {},
   "outputs": [],
   "source": [
    "import matplotlib.pyplot as plt\n",
    "\n",
    "\n",
    "def plot_graphs(history, string):\n",
    "  plt.plot(history.history[string])\n",
    "  plt.xlabel(\"Epochs\")\n",
    "  plt.ylabel(string)\n",
    "  plt.show()"
   ]
  },
  {
   "cell_type": "code",
   "execution_count": 70,
   "metadata": {},
   "outputs": [
    {
     "data": {
      "image/png": "[encoded data removed]",
      "text/plain": [
       "<Figure size 432x288 with 1 Axes>"
      ]
     },
     "metadata": {
      "needs_background": "light"
     },
     "output_type": "display_data"
    },
    {
     "data": {
      "image/png": "[encoded data removed]",
      "text/plain": [
       "<Figure size 432x288 with 1 Axes>"
      ]
     },
     "metadata": {
      "needs_background": "light"
     },
     "output_type": "display_data"
    }
   ],
   "source": [
    "plot_graphs(history, 'accuracy')\n",
    "plot_graphs(history, 'val_accuracy')"
   ]
  },
  {
   "cell_type": "code",
   "execution_count": 71,
   "metadata": {},
   "outputs": [
    {
     "name": "stdout",
     "output_type": "stream",
     "text": [
      "WARNING:tensorflow:Model was constructed with shape (None, 20) for input Tensor(\"embedding_4_input:0\", shape=(None, 20), dtype=float32), but it was called on an input with incompatible shape (None, 19).\n",
      "[70]\n"
     ]
    }
   ],
   "source": [
    "title = 'distributed computing'\n",
    "token_list = tokenizer.texts_to_sequences([title])[0]\n",
    "token_list = pad_sequences([token_list], maxlen=max_length-1, padding='post')\n",
    "predicted = model.predict_classes(token_list, verbose=0)\n",
    "\n",
    "print(predicted)\n"
   ]
  },
  {
   "cell_type": "code",
   "execution_count": null,
   "metadata": {},
   "outputs": [],
   "source": []
  }
 ],
 "metadata": {
  "kernelspec": {
   "display_name": "Python 3",
   "language": "python",
   "name": "python3"
  },
  "language_info": {
   "codemirror_mode": {
    "name": "ipython",
    "version": 3
   },
   "file_extension": ".py",
   "mimetype": "text/x-python",
   "name": "python",
   "nbconvert_exporter": "python",
   "pygments_lexer": "ipython3",
   "version": "3.8.3"
  }
 },
 "nbformat": 4,
 "nbformat_minor": 4
}
