{
 "cells": [
  {
   "cell_type": "code",
   "execution_count": 1,
   "metadata": {},
   "outputs": [],
   "source": [
    "import tensorflow as tf\n",
    "import numpy as np\n",
    "import pandas as pd"
   ]
  },
  {
   "cell_type": "code",
   "execution_count": 2,
   "metadata": {},
   "outputs": [
    {
     "name": "stderr",
     "output_type": "stream",
     "text": [
      "/home/lagvna/anaconda3/lib/python3.8/site-packages/IPython/core/interactiveshell.py:3071: DtypeWarning: Columns (0,7) have mixed types.Specify dtype option on import or set low_memory=False.\n",
      "  has_raised = await self.run_ast_nodes(code_ast.body, cell_name,\n"
     ]
    }
   ],
   "source": [
    "df = pd.read_csv(\"/home/lagvna/WykazCzasopism/resources/wykaz.csv\")"
   ]
  },
  {
   "cell_type": "code",
   "execution_count": 3,
   "metadata": {},
   "outputs": [
    {
     "data": {
      "text/html": [
       "<div>\n",
       "<style scoped>\n",
       "    .dataframe tbody tr th:only-of-type {\n",
       "        vertical-align: middle;\n",
       "    }\n",
       "\n",
       "    .dataframe tbody tr th {\n",
       "        vertical-align: top;\n",
       "    }\n",
       "\n",
       "    .dataframe thead th {\n",
       "        text-align: right;\n",
       "    }\n",
       "</style>\n",
       "<table border=\"1\" class=\"dataframe\">\n",
       "  <thead>\n",
       "    <tr style=\"text-align: right;\">\n",
       "      <th></th>\n",
       "      <th>Unnamed: 0</th>\n",
       "      <th>Wykaz czasopism naukowych</th>\n",
       "      <th>Unnamed: 2</th>\n",
       "      <th>Unnamed: 3</th>\n",
       "      <th>Unnamed: 4</th>\n",
       "      <th>Unnamed: 5</th>\n",
       "      <th>Unnamed: 6</th>\n",
       "      <th>Unnamed: 7</th>\n",
       "      <th>Unnamed: 8</th>\n",
       "      <th>Unnamed: 9</th>\n",
       "      <th>...</th>\n",
       "      <th>Unnamed: 42</th>\n",
       "      <th>Unnamed: 43</th>\n",
       "      <th>Unnamed: 44</th>\n",
       "      <th>Unnamed: 45</th>\n",
       "      <th>Unnamed: 46</th>\n",
       "      <th>Unnamed: 47</th>\n",
       "      <th>Unnamed: 48</th>\n",
       "      <th>Unnamed: 49</th>\n",
       "      <th>Unnamed: 50</th>\n",
       "      <th>Unnamed: 51</th>\n",
       "    </tr>\n",
       "  </thead>\n",
       "  <tbody>\n",
       "    <tr>\n",
       "      <th>0</th>\n",
       "      <td>NaN</td>\n",
       "      <td>NaN</td>\n",
       "      <td>NaN</td>\n",
       "      <td>NaN</td>\n",
       "      <td>NaN</td>\n",
       "      <td>NaN</td>\n",
       "      <td>NaN</td>\n",
       "      <td>NaN</td>\n",
       "      <td>NaN</td>\n",
       "      <td>NaN</td>\n",
       "      <td>...</td>\n",
       "      <td>NaN</td>\n",
       "      <td>NaN</td>\n",
       "      <td>NaN</td>\n",
       "      <td>NaN</td>\n",
       "      <td>NaN</td>\n",
       "      <td>NaN</td>\n",
       "      <td>NaN</td>\n",
       "      <td>NaN</td>\n",
       "      <td>NaN</td>\n",
       "      <td>NaN</td>\n",
       "    </tr>\n",
       "    <tr>\n",
       "      <th>1</th>\n",
       "      <td>NaN</td>\n",
       "      <td>NaN</td>\n",
       "      <td>NaN</td>\n",
       "      <td>NaN</td>\n",
       "      <td>NaN</td>\n",
       "      <td>NaN</td>\n",
       "      <td>NaN</td>\n",
       "      <td>NaN</td>\n",
       "      <td>archeologia</td>\n",
       "      <td>filozofia</td>\n",
       "      <td>...</td>\n",
       "      <td>prawo kanoniczne</td>\n",
       "      <td>psychologia</td>\n",
       "      <td>astronomia</td>\n",
       "      <td>informatyka</td>\n",
       "      <td>matematyka</td>\n",
       "      <td>nauki biologiczne</td>\n",
       "      <td>nauki chemiczne</td>\n",
       "      <td>nauki fizyczne</td>\n",
       "      <td>nauki o Ziemi i środowisku</td>\n",
       "      <td>nauki teologiczne</td>\n",
       "    </tr>\n",
       "    <tr>\n",
       "      <th>2</th>\n",
       "      <td>Lp.</td>\n",
       "      <td>Tytuł 1</td>\n",
       "      <td>issn</td>\n",
       "      <td>e-issn</td>\n",
       "      <td>Tytuł 2</td>\n",
       "      <td>issn</td>\n",
       "      <td>e-issn</td>\n",
       "      <td>Punkty</td>\n",
       "      <td>101</td>\n",
       "      <td>102</td>\n",
       "      <td>...</td>\n",
       "      <td>510</td>\n",
       "      <td>511</td>\n",
       "      <td>601</td>\n",
       "      <td>602</td>\n",
       "      <td>603</td>\n",
       "      <td>604</td>\n",
       "      <td>605</td>\n",
       "      <td>606</td>\n",
       "      <td>607</td>\n",
       "      <td>701</td>\n",
       "    </tr>\n",
       "    <tr>\n",
       "      <th>3</th>\n",
       "      <td>1</td>\n",
       "      <td>2D Materials</td>\n",
       "      <td>2053-1583</td>\n",
       "      <td>2053-1583</td>\n",
       "      <td>2D Materials</td>\n",
       "      <td>NaN</td>\n",
       "      <td>2053-1583</td>\n",
       "      <td>140</td>\n",
       "      <td>NaN</td>\n",
       "      <td>NaN</td>\n",
       "      <td>...</td>\n",
       "      <td>NaN</td>\n",
       "      <td>NaN</td>\n",
       "      <td>NaN</td>\n",
       "      <td>NaN</td>\n",
       "      <td>NaN</td>\n",
       "      <td>NaN</td>\n",
       "      <td>x</td>\n",
       "      <td>x</td>\n",
       "      <td>NaN</td>\n",
       "      <td>NaN</td>\n",
       "    </tr>\n",
       "    <tr>\n",
       "      <th>4</th>\n",
       "      <td>2</td>\n",
       "      <td>3 Biotech</td>\n",
       "      <td>2190-572X</td>\n",
       "      <td>2190-5738</td>\n",
       "      <td>3 Biotech</td>\n",
       "      <td>2190-572X</td>\n",
       "      <td>2190-5738</td>\n",
       "      <td>70</td>\n",
       "      <td>NaN</td>\n",
       "      <td>NaN</td>\n",
       "      <td>...</td>\n",
       "      <td>NaN</td>\n",
       "      <td>NaN</td>\n",
       "      <td>NaN</td>\n",
       "      <td>NaN</td>\n",
       "      <td>NaN</td>\n",
       "      <td>x</td>\n",
       "      <td>NaN</td>\n",
       "      <td>NaN</td>\n",
       "      <td>NaN</td>\n",
       "      <td>NaN</td>\n",
       "    </tr>\n",
       "  </tbody>\n",
       "</table>\n",
       "<p>5 rows × 52 columns</p>\n",
       "</div>"
      ],
      "text/plain": [
       "  Unnamed: 0 Wykaz czasopism naukowych Unnamed: 2 Unnamed: 3    Unnamed: 4  \\\n",
       "0        NaN                       NaN        NaN        NaN           NaN   \n",
       "1        NaN                       NaN        NaN        NaN           NaN   \n",
       "2        Lp.                   Tytuł 1       issn     e-issn       Tytuł 2   \n",
       "3          1              2D Materials  2053-1583  2053-1583  2D Materials   \n",
       "4          2                 3 Biotech  2190-572X  2190-5738     3 Biotech   \n",
       "\n",
       "  Unnamed: 5 Unnamed: 6 Unnamed: 7   Unnamed: 8 Unnamed: 9  ...  \\\n",
       "0        NaN        NaN        NaN          NaN        NaN  ...   \n",
       "1        NaN        NaN        NaN  archeologia  filozofia  ...   \n",
       "2       issn     e-issn     Punkty          101        102  ...   \n",
       "3        NaN  2053-1583        140          NaN        NaN  ...   \n",
       "4  2190-572X  2190-5738         70          NaN        NaN  ...   \n",
       "\n",
       "        Unnamed: 42  Unnamed: 43 Unnamed: 44  Unnamed: 45 Unnamed: 46  \\\n",
       "0               NaN          NaN         NaN          NaN         NaN   \n",
       "1  prawo kanoniczne  psychologia  astronomia  informatyka  matematyka   \n",
       "2               510          511         601          602         603   \n",
       "3               NaN          NaN         NaN          NaN         NaN   \n",
       "4               NaN          NaN         NaN          NaN         NaN   \n",
       "\n",
       "         Unnamed: 47      Unnamed: 48     Unnamed: 49  \\\n",
       "0                NaN              NaN             NaN   \n",
       "1  nauki biologiczne  nauki chemiczne  nauki fizyczne   \n",
       "2                604              605             606   \n",
       "3                NaN                x               x   \n",
       "4                  x              NaN             NaN   \n",
       "\n",
       "                  Unnamed: 50        Unnamed: 51  \n",
       "0                         NaN                NaN  \n",
       "1  nauki o Ziemi i środowisku  nauki teologiczne  \n",
       "2                         607                701  \n",
       "3                         NaN                NaN  \n",
       "4                         NaN                NaN  \n",
       "\n",
       "[5 rows x 52 columns]"
      ]
     },
     "execution_count": 3,
     "metadata": {},
     "output_type": "execute_result"
    }
   ],
   "source": [
    "df.head()"
   ]
  },
  {
   "cell_type": "code",
   "execution_count": 4,
   "metadata": {},
   "outputs": [],
   "source": [
    "df.columns = df.iloc[2]"
   ]
  },
  {
   "cell_type": "code",
   "execution_count": 5,
   "metadata": {},
   "outputs": [],
   "source": [
    "df.drop([0, 1, 2], inplace = True)"
   ]
  },
  {
   "cell_type": "code",
   "execution_count": 6,
   "metadata": {},
   "outputs": [],
   "source": [
    "df = df[['Tytuł 1', 'Punkty']]"
   ]
  },
  {
   "cell_type": "code",
   "execution_count": 7,
   "metadata": {},
   "outputs": [],
   "source": [
    "df['Punkty'].nunique()\n",
    "df['Punkty'] = pd.to_numeric(df['Punkty'])\n",
    "df['Punkty'] = df['Punkty'] / 10.0"
   ]
  },
  {
   "cell_type": "code",
   "execution_count": 8,
   "metadata": {},
   "outputs": [
    {
     "data": {
      "text/html": [
       "<div>\n",
       "<style scoped>\n",
       "    .dataframe tbody tr th:only-of-type {\n",
       "        vertical-align: middle;\n",
       "    }\n",
       "\n",
       "    .dataframe tbody tr th {\n",
       "        vertical-align: top;\n",
       "    }\n",
       "\n",
       "    .dataframe thead th {\n",
       "        text-align: right;\n",
       "    }\n",
       "</style>\n",
       "<table border=\"1\" class=\"dataframe\">\n",
       "  <thead>\n",
       "    <tr style=\"text-align: right;\">\n",
       "      <th>2</th>\n",
       "      <th>Tytuł 1</th>\n",
       "      <th>Punkty</th>\n",
       "    </tr>\n",
       "  </thead>\n",
       "  <tbody>\n",
       "    <tr>\n",
       "      <th>3</th>\n",
       "      <td>2D Materials</td>\n",
       "      <td>14.0</td>\n",
       "    </tr>\n",
       "    <tr>\n",
       "      <th>4</th>\n",
       "      <td>3 Biotech</td>\n",
       "      <td>7.0</td>\n",
       "    </tr>\n",
       "    <tr>\n",
       "      <th>5</th>\n",
       "      <td>3C Empresa</td>\n",
       "      <td>2.0</td>\n",
       "    </tr>\n",
       "    <tr>\n",
       "      <th>6</th>\n",
       "      <td>3c Tecnologia</td>\n",
       "      <td>2.0</td>\n",
       "    </tr>\n",
       "    <tr>\n",
       "      <th>7</th>\n",
       "      <td>3C Tic</td>\n",
       "      <td>2.0</td>\n",
       "    </tr>\n",
       "  </tbody>\n",
       "</table>\n",
       "</div>"
      ],
      "text/plain": [
       "2        Tytuł 1  Punkty\n",
       "3   2D Materials    14.0\n",
       "4      3 Biotech     7.0\n",
       "5     3C Empresa     2.0\n",
       "6  3c Tecnologia     2.0\n",
       "7         3C Tic     2.0"
      ]
     },
     "execution_count": 8,
     "metadata": {},
     "output_type": "execute_result"
    }
   ],
   "source": [
    "df.head()"
   ]
  },
  {
   "cell_type": "code",
   "execution_count": 9,
   "metadata": {},
   "outputs": [],
   "source": [
    "length = len(df)\n",
    "midpoint = int(0.7 * length)"
   ]
  },
  {
   "cell_type": "code",
   "execution_count": 10,
   "metadata": {},
   "outputs": [],
   "source": [
    "df.reindex(np.random.permutation(df.index))\n",
    "train = df[:midpoint]\n",
    "test = df[midpoint:]"
   ]
  },
  {
   "cell_type": "code",
   "execution_count": 11,
   "metadata": {},
   "outputs": [],
   "source": [
    "from tensorflow.keras.utils import to_categorical\n",
    "\n",
    "training_sentences = [i for i in train['Tytuł 1']]\n",
    "testing_sentences = [i for i in test['Tytuł 1']]\n",
    "training_labels = [int(i) for i in train['Punkty']]\n",
    "testing_labels = [int(i) for i in test['Punkty']]\n",
    "\n",
    "training_labels = training_labels\n",
    "testing_labels = testing_labels\n",
    "\n",
    "\n",
    "training_labels_final = to_categorical(training_labels)\n",
    "testing_labels_final = to_categorical(testing_labels)"
   ]
  },
  {
   "cell_type": "code",
   "execution_count": 12,
   "metadata": {},
   "outputs": [],
   "source": [
    "vocab_size = 13000\n",
    "embedding_dim = 16\n",
    "max_length = 20\n",
    "trunc_type='post'\n",
    "oov_tok = \"<OOV>\""
   ]
  },
  {
   "cell_type": "code",
   "execution_count": 13,
   "metadata": {},
   "outputs": [],
   "source": [
    "from tensorflow.keras.preprocessing.text import Tokenizer\n",
    "from tensorflow.keras.preprocessing.sequence import pad_sequences\n",
    "\n",
    "tokenizer = Tokenizer(num_words = vocab_size, oov_token=oov_tok)\n",
    "tokenizer.fit_on_texts(training_sentences)\n",
    "word_index = tokenizer.word_index\n",
    "sequences = tokenizer.texts_to_sequences(training_sentences)\n",
    "padded = pad_sequences(sequences,maxlen=max_length, truncating=trunc_type)\n",
    "\n",
    "testing_sequences = tokenizer.texts_to_sequences(testing_sentences)\n",
    "testing_padded = pad_sequences(testing_sequences,maxlen=max_length)"
   ]
  },
  {
   "cell_type": "code",
   "execution_count": 14,
   "metadata": {},
   "outputs": [
    {
     "name": "stdout",
     "output_type": "stream",
     "text": [
      "Model: \"sequential\"\n",
      "_________________________________________________________________\n",
      "Layer (type)                 Output Shape              Param #   \n",
      "=================================================================\n",
      "embedding (Embedding)        (None, 20, 16)            208000    \n",
      "_________________________________________________________________\n",
      "bidirectional (Bidirectional (None, 64)                9600      \n",
      "_________________________________________________________________\n",
      "dense (Dense)                (None, 12)                780       \n",
      "_________________________________________________________________\n",
      "dense_1 (Dense)              (None, 12)                156       \n",
      "_________________________________________________________________\n",
      "dense_2 (Dense)              (None, 21)                273       \n",
      "=================================================================\n",
      "Total params: 218,809\n",
      "Trainable params: 218,809\n",
      "Non-trainable params: 0\n",
      "_________________________________________________________________\n"
     ]
    }
   ],
   "source": [
    "model = tf.keras.Sequential([\n",
    "    tf.keras.layers.Embedding(vocab_size, embedding_dim, input_length=max_length),\n",
    "    tf.keras.layers.Bidirectional(tf.keras.layers.GRU(32)),\n",
    "    tf.keras.layers.Dense(12, activation='relu'),\n",
    "    tf.keras.layers.Dense(12, activation='relu'),\n",
    "    tf.keras.layers.Dense(21, activation='softmax')\n",
    "])\n",
    "model.compile(loss='categorical_crossentropy',optimizer='adam',metrics=['accuracy'])\n",
    "model.summary()"
   ]
  },
  {
   "cell_type": "code",
   "execution_count": 15,
   "metadata": {},
   "outputs": [
    {
     "name": "stdout",
     "output_type": "stream",
     "text": [
      "Epoch 1/50\n",
      "636/636 [==============================] - 8s 12ms/step - loss: 1.7835 - accuracy: 0.2265 - val_loss: 1.4226 - val_accuracy: 0.2871\n",
      "Epoch 2/50\n",
      "636/636 [==============================] - 7s 11ms/step - loss: 1.5708 - accuracy: 0.2971 - val_loss: 1.4655 - val_accuracy: 0.2996\n",
      "Epoch 3/50\n",
      "636/636 [==============================] - 8s 12ms/step - loss: 1.4531 - accuracy: 0.3733 - val_loss: 1.5855 - val_accuracy: 0.3399\n",
      "Epoch 4/50\n",
      "636/636 [==============================] - 10s 15ms/step - loss: 1.3519 - accuracy: 0.4373 - val_loss: 1.5263 - val_accuracy: 0.3506\n",
      "Epoch 5/50\n",
      "636/636 [==============================] - 8s 13ms/step - loss: 1.2718 - accuracy: 0.4776 - val_loss: 1.6792 - val_accuracy: 0.3168\n",
      "Epoch 6/50\n",
      "636/636 [==============================] - 9s 14ms/step - loss: 1.2048 - accuracy: 0.5183 - val_loss: 1.7329 - val_accuracy: 0.2666\n",
      "Epoch 7/50\n",
      "636/636 [==============================] - 10s 15ms/step - loss: 1.1452 - accuracy: 0.5466 - val_loss: 1.9075 - val_accuracy: 0.2246\n",
      "Epoch 8/50\n",
      "636/636 [==============================] - 8s 12ms/step - loss: 1.0969 - accuracy: 0.5751 - val_loss: 1.8870 - val_accuracy: 0.2361\n",
      "Epoch 9/50\n",
      "636/636 [==============================] - 8s 13ms/step - loss: 1.0574 - accuracy: 0.5940 - val_loss: 1.8659 - val_accuracy: 0.2266\n",
      "Epoch 10/50\n",
      "636/636 [==============================] - 9s 14ms/step - loss: 1.0219 - accuracy: 0.6061 - val_loss: 2.0516 - val_accuracy: 0.2114\n",
      "Epoch 11/50\n",
      "636/636 [==============================] - 8s 12ms/step - loss: 0.9890 - accuracy: 0.6203 - val_loss: 2.0334 - val_accuracy: 0.2187\n",
      "Epoch 12/50\n",
      "636/636 [==============================] - 9s 13ms/step - loss: 0.9587 - accuracy: 0.6334 - val_loss: 2.0147 - val_accuracy: 0.2275\n",
      "Epoch 13/50\n",
      "636/636 [==============================] - 9s 13ms/step - loss: 0.9325 - accuracy: 0.6406 - val_loss: 1.8121 - val_accuracy: 0.2611\n",
      "Epoch 14/50\n",
      "636/636 [==============================] - 8s 12ms/step - loss: 0.9045 - accuracy: 0.6532 - val_loss: 2.0848 - val_accuracy: 0.2416\n",
      "Epoch 15/50\n",
      "636/636 [==============================] - 8s 12ms/step - loss: 0.8825 - accuracy: 0.6597 - val_loss: 2.1187 - val_accuracy: 0.2371\n",
      "Epoch 16/50\n",
      "636/636 [==============================] - 8s 12ms/step - loss: 0.8584 - accuracy: 0.6663 - val_loss: 2.1133 - val_accuracy: 0.2460\n",
      "Epoch 17/50\n",
      "636/636 [==============================] - 8s 12ms/step - loss: 0.8368 - accuracy: 0.6729 - val_loss: 2.2038 - val_accuracy: 0.2367\n",
      "Epoch 18/50\n",
      "636/636 [==============================] - 8s 12ms/step - loss: 0.8159 - accuracy: 0.6802 - val_loss: 2.4312 - val_accuracy: 0.2238\n",
      "Epoch 19/50\n",
      "636/636 [==============================] - 8s 12ms/step - loss: 0.7981 - accuracy: 0.6887 - val_loss: 2.3707 - val_accuracy: 0.2373\n",
      "Epoch 20/50\n",
      "636/636 [==============================] - 8s 13ms/step - loss: 0.7788 - accuracy: 0.6950 - val_loss: 2.5327 - val_accuracy: 0.2231\n",
      "Epoch 21/50\n",
      "636/636 [==============================] - 8s 12ms/step - loss: 0.7642 - accuracy: 0.7005 - val_loss: 2.3696 - val_accuracy: 0.2494\n",
      "Epoch 22/50\n",
      "636/636 [==============================] - 8s 12ms/step - loss: 0.7476 - accuracy: 0.7079 - val_loss: 2.6097 - val_accuracy: 0.2487\n",
      "Epoch 23/50\n",
      "636/636 [==============================] - 8s 13ms/step - loss: 0.7318 - accuracy: 0.7152 - val_loss: 2.5118 - val_accuracy: 0.2600\n",
      "Epoch 24/50\n",
      "636/636 [==============================] - 10s 15ms/step - loss: 0.7159 - accuracy: 0.7214 - val_loss: 2.6602 - val_accuracy: 0.2420\n",
      "Epoch 25/50\n",
      "636/636 [==============================] - 9s 14ms/step - loss: 0.7017 - accuracy: 0.7260 - val_loss: 2.6762 - val_accuracy: 0.2541\n",
      "Epoch 26/50\n",
      "636/636 [==============================] - 9s 14ms/step - loss: 0.6864 - accuracy: 0.7333 - val_loss: 2.8837 - val_accuracy: 0.2379\n",
      "Epoch 27/50\n",
      "636/636 [==============================] - 8s 12ms/step - loss: 0.6733 - accuracy: 0.7390 - val_loss: 2.9962 - val_accuracy: 0.2406\n",
      "Epoch 28/50\n",
      "636/636 [==============================] - 7s 12ms/step - loss: 0.6616 - accuracy: 0.7415 - val_loss: 2.7922 - val_accuracy: 0.2733\n",
      "Epoch 29/50\n",
      "636/636 [==============================] - 9s 15ms/step - loss: 0.6460 - accuracy: 0.7494 - val_loss: 3.1014 - val_accuracy: 0.2453\n",
      "Epoch 30/50\n",
      "636/636 [==============================] - 8s 13ms/step - loss: 0.6363 - accuracy: 0.7534 - val_loss: 3.1862 - val_accuracy: 0.2429\n",
      "Epoch 31/50\n",
      "636/636 [==============================] - 10s 16ms/step - loss: 0.6225 - accuracy: 0.7570 - val_loss: 3.3230 - val_accuracy: 0.2385\n",
      "Epoch 32/50\n",
      "636/636 [==============================] - 10s 16ms/step - loss: 0.6089 - accuracy: 0.7656 - val_loss: 3.2590 - val_accuracy: 0.2447\n",
      "Epoch 33/50\n",
      "636/636 [==============================] - 9s 15ms/step - loss: 0.5984 - accuracy: 0.7683 - val_loss: 3.4088 - val_accuracy: 0.2571\n",
      "Epoch 34/50\n",
      "636/636 [==============================] - 9s 15ms/step - loss: 0.5883 - accuracy: 0.7725 - val_loss: 3.2803 - val_accuracy: 0.2515\n",
      "Epoch 35/50\n",
      "636/636 [==============================] - 9s 14ms/step - loss: 0.5791 - accuracy: 0.7775 - val_loss: 3.5949 - val_accuracy: 0.2404\n",
      "Epoch 36/50\n",
      "636/636 [==============================] - 10s 16ms/step - loss: 0.5650 - accuracy: 0.7808 - val_loss: 3.6960 - val_accuracy: 0.2414\n",
      "Epoch 37/50\n",
      "636/636 [==============================] - 10s 15ms/step - loss: 0.5570 - accuracy: 0.7870 - val_loss: 3.7341 - val_accuracy: 0.2462\n",
      "Epoch 38/50\n",
      "636/636 [==============================] - 10s 15ms/step - loss: 0.5456 - accuracy: 0.7929 - val_loss: 3.8317 - val_accuracy: 0.2405\n",
      "Epoch 39/50\n",
      "636/636 [==============================] - 9s 14ms/step - loss: 0.5355 - accuracy: 0.7948 - val_loss: 3.7364 - val_accuracy: 0.2529\n",
      "Epoch 40/50\n",
      "636/636 [==============================] - 8s 13ms/step - loss: 0.5253 - accuracy: 0.7990 - val_loss: 3.9529 - val_accuracy: 0.2453\n",
      "Epoch 41/50\n",
      "636/636 [==============================] - 8s 13ms/step - loss: 0.5176 - accuracy: 0.8021 - val_loss: 3.9221 - val_accuracy: 0.2553\n",
      "Epoch 42/50\n",
      "636/636 [==============================] - 8s 13ms/step - loss: 0.5075 - accuracy: 0.8072 - val_loss: 4.1340 - val_accuracy: 0.2547\n",
      "Epoch 43/50\n",
      "636/636 [==============================] - 8s 13ms/step - loss: 0.4985 - accuracy: 0.8107 - val_loss: 4.0207 - val_accuracy: 0.2552\n",
      "Epoch 44/50\n",
      "636/636 [==============================] - 8s 13ms/step - loss: 0.4894 - accuracy: 0.8149 - val_loss: 4.6257 - val_accuracy: 0.2306\n",
      "Epoch 45/50\n",
      "636/636 [==============================] - 8s 13ms/step - loss: 0.4818 - accuracy: 0.8172 - val_loss: 4.2734 - val_accuracy: 0.2610\n",
      "Epoch 46/50\n",
      "636/636 [==============================] - 10s 15ms/step - loss: 0.4715 - accuracy: 0.8218 - val_loss: 4.6661 - val_accuracy: 0.2408\n",
      "Epoch 47/50\n",
      "636/636 [==============================] - 9s 14ms/step - loss: 0.4623 - accuracy: 0.8255 - val_loss: 4.4193 - val_accuracy: 0.2563\n",
      "Epoch 48/50\n",
      "636/636 [==============================] - 9s 15ms/step - loss: 0.4544 - accuracy: 0.8294 - val_loss: 4.4595 - val_accuracy: 0.2506\n",
      "Epoch 49/50\n",
      "636/636 [==============================] - 9s 14ms/step - loss: 0.4455 - accuracy: 0.8331 - val_loss: 4.8086 - val_accuracy: 0.2401\n",
      "Epoch 50/50\n",
      "636/636 [==============================] - 9s 14ms/step - loss: 0.4374 - accuracy: 0.8367 - val_loss: 4.6401 - val_accuracy: 0.2593\n"
     ]
    }
   ],
   "source": [
    "num_epochs = 50\n",
    "history = model.fit(padded, training_labels_final, epochs=num_epochs, validation_data=(testing_padded, testing_labels_final))"
   ]
  },
  {
   "cell_type": "code",
   "execution_count": 16,
   "metadata": {},
   "outputs": [],
   "source": [
    "import matplotlib.pyplot as plt\n",
    "\n",
    "\n",
    "def plot_graphs(history, string):\n",
    "  plt.plot(history.history[string])\n",
    "  plt.xlabel(\"Epochs\")\n",
    "  plt.ylabel(string)\n",
    "  plt.show()"
   ]
  },
  {
   "cell_type": "code",
   "execution_count": 17,
   "metadata": {},
   "outputs": [
    {
     "data": {
      "image/png": "[encoded data removed]",
      "text/plain": [
       "<Figure size 432x288 with 1 Axes>"
      ]
     },
     "metadata": {
      "needs_background": "light"
     },
     "output_type": "display_data"
    },
    {
     "data": {
      "image/png": "[encoded data removed]",
      "text/plain": [
       "<Figure size 432x288 with 1 Axes>"
      ]
     },
     "metadata": {
      "needs_background": "light"
     },
     "output_type": "display_data"
    }
   ],
   "source": [
    "plot_graphs(history, 'accuracy')\n",
    "plot_graphs(history, 'val_accuracy')"
   ]
  },
  {
   "cell_type": "code",
   "execution_count": 18,
   "metadata": {},
   "outputs": [
    {
     "name": "stdout",
     "output_type": "stream",
     "text": [
      "WARNING:tensorflow:From <ipython-input-18-c92d0fa4d3a0>:4: Sequential.predict_classes (from tensorflow.python.keras.engine.sequential) is deprecated and will be removed after 2021-01-01.\n",
      "Instructions for updating:\n",
      "Please use instead:* `np.argmax(model.predict(x), axis=-1)`,   if your model does multi-class classification   (e.g. if it uses a `softmax` last-layer activation).* `(model.predict(x) > 0.5).astype(\"int32\")`,   if your model does binary classification   (e.g. if it uses a `sigmoid` last-layer activation).\n",
      "WARNING:tensorflow:Model was constructed with shape (None, 20) for input Tensor(\"embedding_input:0\", shape=(None, 20), dtype=float32), but it was called on an input with incompatible shape (None, 19).\n",
      "[7]\n"
     ]
    }
   ],
   "source": [
    "title = 'distributed computing'\n",
    "token_list = tokenizer.texts_to_sequences([title])[0]\n",
    "token_list = pad_sequences([token_list], maxlen=max_length-1, padding='post')\n",
    "predicted = model.predict_classes(token_list, verbose=0)\n",
    "\n",
    "print(predicted)\n"
   ]
  },
  {
   "cell_type": "code",
   "execution_count": null,
   "metadata": {},
   "outputs": [],
   "source": []
  }
 ],
 "metadata": {
  "kernelspec": {
   "display_name": "Python 3",
   "language": "python",
   "name": "python3"
  },
  "language_info": {
   "codemirror_mode": {
    "name": "ipython",
    "version": 3
   },
   "file_extension": ".py",
   "mimetype": "text/x-python",
   "name": "python",
   "nbconvert_exporter": "python",
   "pygments_lexer": "ipython3",
   "version": "3.8.3"
  }
 },
 "nbformat": 4,
 "nbformat_minor": 4
}
